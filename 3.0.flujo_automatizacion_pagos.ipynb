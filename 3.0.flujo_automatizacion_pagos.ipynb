{
 "cells": [
  {
   "cell_type": "markdown",
   "id": "7385f122-0913-4e78-a4d5-cf8a0c1e77ec",
   "metadata": {
    "tags": []
   },
   "source": [
    "# Unilever"
   ]
  },
  {
   "cell_type": "markdown",
   "id": "7d7c0ef3-6049-4baa-9ed9-42849e177bdb",
   "metadata": {},
   "source": [
    "### Automatización aplicación pagos"
   ]
  },
  {
   "cell_type": "markdown",
   "id": "8ced3e6c-c800-41aa-8ca5-d7a77d444f02",
   "metadata": {},
   "source": [
    "### Imports y configuración"
   ]
  },
  {
   "cell_type": "code",
   "execution_count": 33,
   "id": "d4ce5b79-af9e-4c98-8346-ed200e345d84",
   "metadata": {},
   "outputs": [],
   "source": [
    "import pandas as pd\n",
    "import numpy as np\n",
    "\n",
    "from openpyxl import load_workbook\n",
    "from openpyxl.utils.dataframe import dataframe_to_rows\n",
    "from openpyxl.styles import numbers\n",
    "\n",
    "from openpyxl.styles import Alignment # Formatear columnas\n"
   ]
  },
  {
   "cell_type": "markdown",
   "id": "59ce77cb-5636-4dce-b92f-2150cffb4567",
   "metadata": {
    "tags": []
   },
   "source": [
    "### Remittance del Cliente"
   ]
  },
  {
   "cell_type": "code",
   "execution_count": 34,
   "id": "7ccffa6c-c1d0-4241-b27b-725a858e57aa",
   "metadata": {
    "tags": []
   },
   "outputs": [],
   "source": [
    "remittance = pd.read_excel(\n",
    "    \"Remittance.xlsx\",\n",
    "    skiprows=25,\n",
    "    nrows=48,\n",
    "    usecols=[\"DOC\", \"No. Doc\", \"Total a Pagar\"]\n",
    ").dropna(subset=[\"DOC\"])"
   ]
  },
  {
   "cell_type": "markdown",
   "id": "7b420819-3fbf-48c1-82a6-0ce40bd7f7a2",
   "metadata": {
    "tags": []
   },
   "source": [
    "#### Transformaciones en Remittance"
   ]
  },
  {
   "cell_type": "code",
   "execution_count": 35,
   "id": "1f5cc89c-b7a3-4943-b642-b44b77367c7f",
   "metadata": {
    "tags": []
   },
   "outputs": [],
   "source": [
    "# Tranformo Remittence\n",
    "## Cada cliente manda la informacion en Excel con distintos formatos (difrente indice) y a la vez para cada cliente la cantidad de filas va a variar\n",
    "\n",
    "remittance = remittance.rename(columns={\n",
    "    \"DOC\": \"Tipo de Documento\",\n",
    "    \"No. Doc\": \"Referencia / Factura\",\n",
    "    \"Total a Pagar\": \"Importe de factura\"\n",
    "})\n",
    "\n",
    "remittance[\"Referencia / Factura\"] = remittance[\"Referencia / Factura\"].str[1:-3]\n",
    "\n",
    "remittance[\"Tipo de Documento\"] = remittance[\"Tipo de Documento\"].replace(\"Factura Comercial\", \"Factura\")\n",
    "remittance[\"Tipo de Documento\"] = remittance[\"Tipo de Documento\"].replace(\"Nota Crédito\", \"Descuentos no asociados a FC\")\n",
    "\n",
    "remittance[\"Importe de factura\"] = pd.to_numeric(remittance[\"Importe de factura\"], errors=\"coerce\").round(2)"
   ]
  },
  {
   "cell_type": "code",
   "execution_count": 36,
   "id": "080fb0cf-be28-4b53-bed6-71f0264ef381",
   "metadata": {
    "tags": []
   },
   "outputs": [],
   "source": [
    "# Creamos columnas vacías (si no existen)\n",
    "if \"Descuento\" not in remittance.columns:\n",
    "    remittance[\"Descuento\"] = \"\"\n",
    "\n",
    "if \"Motivo del descuento\" not in remittance.columns:\n",
    "    remittance[\"Motivo del descuento\"] = \"\"\n",
    "\n",
    "# Definimos condiciones y valores\n",
    "conds = [\n",
    "    (remittance[\"Referencia / Factura\"].str.startswith(\"PMP\", na=False)) & (remittance[\"Importe de factura\"] < 0),\n",
    "    remittance[\"Referencia / Factura\"].str.startswith(\"0085489\", na=False),\n",
    "    remittance[\"Referencia / Factura\"].str.startswith(\"463\", na=False),\n",
    "    remittance[\"Referencia / Factura\"].str.startswith(\"9801649\", na=False)\n",
    "]\n",
    "\n",
    "descuentos = [\"RECHAZO\", \"DESCUENTO\", \"AVERIA\", \"FACT PROVEEDOR\"]\n",
    "motivos = [\"551\", \"987\", \"522\", \"CSB\"]\n",
    "\n",
    "# Asignamos Descuento y Motivo del descuento\n",
    "remittance[\"Descuento\"] = np.select(conds, descuentos, default=remittance[\"Descuento\"])\n",
    "remittance[\"Motivo del descuento\"] = np.select(conds, motivos, default=remittance[\"Motivo del descuento\"])\n"
   ]
  },
  {
   "cell_type": "markdown",
   "id": "58eb867d-515c-4f5b-b28a-625d8a755258",
   "metadata": {},
   "source": [
    "### Cartera FBL5N del Cliente"
   ]
  },
  {
   "cell_type": "code",
   "execution_count": 37,
   "id": "6e40b744-778d-42be-a784-4e5758f33974",
   "metadata": {
    "tags": []
   },
   "outputs": [],
   "source": [
    "FBL5N = pd.read_excel(\n",
    "    \"FBL5N Olimpica Ago 18.xlsx\",\n",
    "    sheet_name=\"FBL5N Olimpica Ago 18\",\n",
    "    usecols=[\"Type\", \"Reference\", \"    Amt in loc.cur.\"]\n",
    ")\n",
    "# Agregar a la importacion de cartera FBL5N que traiga info cuando: Type = \"YE\" y RCd = \"NRO\"\n",
    "# Filtrar directamente Type == RV\n",
    "FBL5N = FBL5N[FBL5N[\"Type\"] == \"RV\"]"
   ]
  },
  {
   "cell_type": "markdown",
   "id": "e7d97623-7525-4527-8ab7-66eb39491679",
   "metadata": {},
   "source": [
    "### Transformaciones en Cartera FBL5N"
   ]
  },
  {
   "cell_type": "code",
   "execution_count": 38,
   "id": "31092f4e-2236-4a5b-9dd8-342939141b57",
   "metadata": {},
   "outputs": [],
   "source": [
    "# Renombrar columnas\n",
    "FBL5N = FBL5N.rename(columns={\n",
    "    \"Reference\": \"Referencia / Factura\",\n",
    "    \"    Amt in loc.cur.\": \"importe_FBL5N\"\n",
    "}).reset_index(drop=True)"
   ]
  },
  {
   "cell_type": "code",
   "execution_count": 39,
   "id": "0a11419f-415d-44b3-ab10-4d846c6fc8eb",
   "metadata": {
    "tags": []
   },
   "outputs": [],
   "source": [
    "# Tipifico correctamente dato importe_FBL5N\n",
    "# Paso 1: eliminar puntos de miles y reemplazar coma por punto decimal\n",
    "FBL5N[\"importe_FBL5N\"] = FBL5N[\"importe_FBL5N\"].str.replace(\".\", \"\", regex=False)  # quita separador de miles\n",
    "FBL5N[\"importe_FBL5N\"] = FBL5N[\"importe_FBL5N\"].str.replace(\",\", \".\", regex=False)  # convierte decimal a punto\n",
    "# Paso 2: convertir a float\n",
    "FBL5N[\"importe_FBL5N\"] = pd.to_numeric(FBL5N[\"importe_FBL5N\"], errors=\"coerce\")"
   ]
  },
  {
   "cell_type": "markdown",
   "id": "363906f5-d268-4d23-82d8-d69708fddb84",
   "metadata": {},
   "source": [
    "### Merge de Remittance y FBL5N por Referencia / Factura (hrc_template)"
   ]
  },
  {
   "cell_type": "code",
   "execution_count": 40,
   "id": "1340aed3-5f97-4577-a50b-dec7b0cafdd5",
   "metadata": {
    "tags": []
   },
   "outputs": [],
   "source": [
    "# Cruzo Remittance y FBL5N por \"Referencia / Factura\"\n",
    "hrc_template = pd.merge(\n",
    "    remittance,\n",
    "    FBL5N,\n",
    "    on=\"Referencia / Factura\",\n",
    "    how=\"left\" # mantiene todas las filas de remittance\n",
    ")\n"
   ]
  },
  {
   "cell_type": "markdown",
   "id": "8805038d-aba2-4680-bd8c-b03bd6e93da1",
   "metadata": {},
   "source": [
    "#### Transformaciones en hrc_template"
   ]
  },
  {
   "cell_type": "code",
   "execution_count": 41,
   "id": "b9d20e68-1ac7-477d-b06d-51979cfb596f",
   "metadata": {
    "tags": []
   },
   "outputs": [],
   "source": [
    "# Inicializamos la columna como NaN\n",
    "hrc_template[\"Diferencia\"] = pd.NA\n",
    "\n",
    "# Calculamos la diferencia solo para facturas\n",
    "hrc_template.loc[hrc_template[\"Tipo de Documento\"] == \"Factura\", \"Diferencia\"] = (\n",
    "     hrc_template[\"importe_FBL5N\"] - hrc_template[\"Importe de factura\"]\n",
    ")"
   ]
  },
  {
   "cell_type": "code",
   "execution_count": 42,
   "id": "8ab015a9-35e3-4bda-be9e-67ef45eb85f1",
   "metadata": {
    "tags": []
   },
   "outputs": [],
   "source": [
    "# Filtramos filas donde Diferencia no es NA y distinta de 0 (esto cambia con respecto al Template, menos dos registros)\n",
    "diferencias = hrc_template[hrc_template[\"Diferencia\"].notna() & (hrc_template[\"Diferencia\"] != 0)].copy()\n",
    "\n",
    "# Creamos las nuevas filas según tus reglas\n",
    "registros_diferencias_entre_remittence_cartera = pd.DataFrame({\n",
    "    \"Tipo de Documento\": \"Descuentos no asociados a FC\",\n",
    "    \"Referencia / Factura\": diferencias[\"Referencia / Factura\"],\n",
    "    \"Importe de factura\": diferencias[\"Diferencia\"],\n",
    "    \"Pago Neto\": \"\",  # opcional\n",
    "    \"Descuento\": diferencias[\"Diferencia\"].apply(\n",
    "        lambda x: \"MENORES VALORES\" if -2000 < x < 2000 else \"A definir\"\n",
    "    ),\n",
    "    \"Motivo del descuento\": diferencias[\"Diferencia\"].apply(\n",
    "        lambda x: \"WOB\" if x < 0 else \"384\"\n",
    "    )\n",
    "})\n",
    "\n",
    "# Concatenamos las nuevas filas al DataFrame original\n",
    "hrc_template = pd.concat([hrc_template, registros_diferencias_entre_remittence_cartera], ignore_index=True)\n"
   ]
  },
  {
   "cell_type": "code",
   "execution_count": 43,
   "id": "e507208e-75fe-4a75-8c6d-0eb481d0854e",
   "metadata": {},
   "outputs": [],
   "source": [
    "# Agrego dato Comentario\n",
    "hrc_template[\"Comentarios\"] = np.where(\n",
    "    hrc_template[\"Tipo de Documento\"] != \"Factura\",\n",
    "    hrc_template[\"Descuento\"].fillna(\"\") + \" \" + hrc_template[\"Referencia / Factura\"].fillna(\"\"),\n",
    "    \"\"\n",
    ")\n",
    "# Agrego dato Pago Neto\n",
    "hrc_template[\"Pago Neto\"] = hrc_template[\"Importe de factura\"]"
   ]
  },
  {
   "cell_type": "code",
   "execution_count": 44,
   "id": "58e4f37f-b698-49e3-834c-1848b8e5ec0f",
   "metadata": {
    "tags": []
   },
   "outputs": [],
   "source": [
    "# Limpio las columnas con las que me voy a quedar en Template ordenadas\n",
    "\n",
    "columnas_finales = [\n",
    "    \"Tipo de Documento\",\n",
    "    \"Referencia / Factura\",\n",
    "    \"Importe de factura\",\n",
    "    \"Descuento\",\n",
    "    \"Motivo del descuento\",\n",
    "    \"Pago Neto\",\n",
    "    \"Comentarios\"\n",
    "]\n",
    "\n",
    "hrc_template = hrc_template[columnas_finales]"
   ]
  },
  {
   "cell_type": "markdown",
   "id": "3f89d611-ebf2-4be5-ad70-ba7131443a71",
   "metadata": {},
   "source": [
    "### Exportacion de archivo (Template_HRC)"
   ]
  },
  {
   "cell_type": "code",
   "execution_count": 46,
   "id": "5137a65e-465c-4e7f-a286-e1ffda6bcd07",
   "metadata": {
    "tags": []
   },
   "outputs": [],
   "source": [
    "ruta_salida = \"Template_HRC.xlsx\"\n",
    "\n",
    "# Exportamos con pandas, indicando hoja y posición inicial\n",
    "hrc_template.to_excel(\n",
    "    ruta_salida,\n",
    "    index=False,\n",
    "    sheet_name=\"Template\",\n",
    "    startrow=17,\n",
    "    startcol=2\n",
    ")"
   ]
  },
  {
   "cell_type": "code",
   "execution_count": 47,
   "id": "7cb9f567-eb42-4584-bed7-cb4e2f9b9dfc",
   "metadata": {
    "tags": []
   },
   "outputs": [],
   "source": [
    "# Abrimos el archivo para aplicar formatos\n",
    "wb = load_workbook(ruta_salida)\n",
    "ws = wb[\"Template\"]"
   ]
  },
  {
   "cell_type": "code",
   "execution_count": 48,
   "id": "7fb591fa-baa0-4900-9fe9-2384a6dae14f",
   "metadata": {
    "tags": []
   },
   "outputs": [],
   "source": [
    "# Formato del Template:\n",
    "# Columnas numéricas\n",
    "num_cols = [\"Importe de factura\", \"Pago Neto\"]\n",
    "\n",
    "for col in num_cols:\n",
    "    col_idx = hrc_template.columns.get_loc(col) + 3  # startcol=2 → columna C = 3 en openpyxl\n",
    "    for row in range(18, 18 + len(hrc_template) + 1):  # largo de df +1\n",
    "        ws.cell(row=row, column=col_idx).number_format = '#,##0.00'\n",
    "        \n",
    "# Columnas de texto\n",
    "## Columnas de texto formateadas y centradas (excepto 'Comentarios')\n",
    "str_cols = [\"Tipo de Documento\", \"Referencia / Factura\", \"Descuento\", \"Motivo del descuento\", \"Comentarios\"]\n",
    "\n",
    "for col in str_cols:\n",
    "    col_idx = hrc_template.columns.get_loc(col) + 3\n",
    "    for row in range(18, 18 + len(hrc_template) + 1):  # largo de df +1\n",
    "        cell = ws.cell(row=row, column=col_idx)\n",
    "        cell.number_format = '@'  # formato texto\n",
    "        if col != \"Comentarios\":\n",
    "            cell.alignment = Alignment(horizontal=\"center\", vertical=\"center\")\n"
   ]
  },
  {
   "cell_type": "code",
   "execution_count": 49,
   "id": "ee6e9b71-4780-48c7-92c7-84ccf4cab0ba",
   "metadata": {
    "tags": []
   },
   "outputs": [
    {
     "name": "stdout",
     "output_type": "stream",
     "text": [
      "Archivo exportado correctamente con formato: Template_HRC.xlsx\n"
     ]
    }
   ],
   "source": [
    "# Guardar cambios en el archivo Excel\n",
    "wb.save(ruta_salida)\n",
    "print(f\"Archivo exportado correctamente con formato: {ruta_salida}\")"
   ]
  }
 ],
 "metadata": {
  "kernelspec": {
   "display_name": "Python 3 (ipykernel)",
   "language": "python",
   "name": "python3"
  },
  "language_info": {
   "codemirror_mode": {
    "name": "ipython",
    "version": 3
   },
   "file_extension": ".py",
   "mimetype": "text/x-python",
   "name": "python",
   "nbconvert_exporter": "python",
   "pygments_lexer": "ipython3",
   "version": "3.8.16"
  }
 },
 "nbformat": 4,
 "nbformat_minor": 5
}
