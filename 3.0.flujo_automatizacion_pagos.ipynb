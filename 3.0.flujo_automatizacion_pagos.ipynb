{
 "cells": [
  {
   "cell_type": "markdown",
   "id": "7385f122-0913-4e78-a4d5-cf8a0c1e77ec",
   "metadata": {
    "tags": []
   },
   "source": [
    "# Unilever"
   ]
  },
  {
   "cell_type": "markdown",
   "id": "7d7c0ef3-6049-4baa-9ed9-42849e177bdb",
   "metadata": {},
   "source": [
    "### Automatización aplicación pagos"
   ]
  },
  {
   "cell_type": "code",
   "execution_count": 1,
   "id": "d4ce5b79-af9e-4c98-8346-ed200e345d84",
   "metadata": {},
   "outputs": [],
   "source": [
    "# 1. Imports y configuración\n",
    "\n",
    "import pandas as pd\n",
    "import numpy as np\n",
    "\n",
    "from openpyxl import load_workbook\n",
    "from openpyxl.utils.dataframe import dataframe_to_rows\n",
    "from openpyxl.styles import numbers\n",
    "\n",
    "from openpyxl.styles import Alignment # Formatear columnas\n"
   ]
  },
  {
   "cell_type": "code",
   "execution_count": 2,
   "id": "7ccffa6c-c1d0-4241-b27b-725a858e57aa",
   "metadata": {
    "tags": []
   },
   "outputs": [],
   "source": [
    "# Importo remittance de Cliente\n",
    "remittance = pd.read_excel(\n",
    "    \"Remittance.xlsx\",\n",
    "    skiprows=25, # salta las filas hasta la 26\n",
    "    nrows=48, # lee desde la 26 hasta la 73\n",
    "    usecols=[\"DOC\", \"No. Doc\", \"Total a Pagar\"]\n",
    ")"
   ]
  },
  {
   "cell_type": "code",
   "execution_count": 3,
   "id": "1f5cc89c-b7a3-4943-b642-b44b77367c7f",
   "metadata": {
    "tags": []
   },
   "outputs": [],
   "source": [
    "# Tranformo Remittence\n",
    "## Cada cliente manda la informacion en Excel con distintos formatos (difrente indice) y a la vez para cada cliente la cantidad de filas va a variar\n",
    "\n",
    "remittance = remittance.rename(columns={\n",
    "    \"DOC\": \"Tipo de Documento\",\n",
    "    \"No. Doc\": \"Referencia / Factura\",\n",
    "    \"Total a Pagar\": \"Importe de factura\"\n",
    "})\n",
    "\n",
    "remittance[\"Referencia / Factura\"] = remittance[\"Referencia / Factura\"].str[1:-3]\n",
    "\n",
    "remittance[\"Tipo de Documento\"] = remittance[\"Tipo de Documento\"].replace(\"Factura Comercial\", \"Factura\")\n",
    "remittance[\"Tipo de Documento\"] = remittance[\"Tipo de Documento\"].replace(\"Nota Crédito\", \"Descuentos no asociados a FC\")\n",
    "\n",
    "remittance[\"Importe de factura\"] = pd.to_numeric(remittance[\"Importe de factura\"], errors=\"coerce\").round(2)"
   ]
  },
  {
   "cell_type": "code",
   "execution_count": 4,
   "id": "df1fd1f1-2a7a-490a-b683-e81e774c7177",
   "metadata": {
    "tags": []
   },
   "outputs": [],
   "source": [
    "remittance[\"Descuento\"] = np.where(\n",
    "    (remittance[\"Importe de factura\"] < 0) & (remittance[\"Referencia / Factura\"].str.startswith(\"PMP\")),\n",
    "    \"RECHAZO\",\n",
    "    \"\"\n",
    ")\n"
   ]
  },
  {
   "cell_type": "code",
   "execution_count": 5,
   "id": "6e40b744-778d-42be-a784-4e5758f33974",
   "metadata": {
    "tags": []
   },
   "outputs": [],
   "source": [
    "# Lectura de cartera FBL5N\n",
    "\n",
    "# Leer solo las columnas necesarias\n",
    "FBL5N = pd.read_excel(\n",
    "    \"FBL5N Olimpica Ago 18.xlsx\",\n",
    "    sheet_name=\"FBL5N Olimpica Ago 18\",\n",
    "    usecols=[\"Type\", \"Reference\", \"    Amt in loc.cur.\"]\n",
    ")\n",
    "\n",
    "# Filtrar directamente Type == RV\n",
    "FBL5N = FBL5N[FBL5N[\"Type\"] == \"RV\"]\n",
    "\n",
    "# Renombrar columnas\n",
    "FBL5N = FBL5N.rename(columns={\n",
    "    \"Reference\": \"Referencia / Factura\",\n",
    "    \"    Amt in loc.cur.\": \"importe_FBL5N\"\n",
    "}).reset_index(drop=True)\n"
   ]
  },
  {
   "cell_type": "code",
   "execution_count": 6,
   "id": "0a11419f-415d-44b3-ab10-4d846c6fc8eb",
   "metadata": {
    "tags": []
   },
   "outputs": [],
   "source": [
    "# Transformo FBL5N\n",
    "## Dato FBL5N (se puede hacer antes)\n",
    "# Paso 1: eliminar puntos de miles y reemplazar coma por punto decimal\n",
    "FBL5N[\"importe_FBL5N\"] = FBL5N[\"importe_FBL5N\"].str.replace(\".\", \"\", regex=False)  # quita separador de miles\n",
    "FBL5N[\"importe_FBL5N\"] = FBL5N[\"importe_FBL5N\"].str.replace(\",\", \".\", regex=False)  # convierte decimal a punto\n",
    "# Paso 2: convertir a float\n",
    "FBL5N[\"importe_FBL5N\"] = pd.to_numeric(FBL5N[\"importe_FBL5N\"], errors=\"coerce\")"
   ]
  },
  {
   "cell_type": "code",
   "execution_count": 7,
   "id": "1340aed3-5f97-4577-a50b-dec7b0cafdd5",
   "metadata": {
    "tags": []
   },
   "outputs": [],
   "source": [
    "# Cruzo Remittance y FBL5N por \"Referencia / Factura\"\n",
    "merged_df = pd.merge(\n",
    "    remittance,\n",
    "    FBL5N,\n",
    "    on=\"Referencia / Factura\",   # mismo nombre en ambos\n",
    "    how=\"left\"                   # mantiene todas las filas de remittance\n",
    ")\n"
   ]
  },
  {
   "cell_type": "code",
   "execution_count": 8,
   "id": "0b5a3e1a-6ad3-419e-a460-fe64d447c041",
   "metadata": {
    "tags": []
   },
   "outputs": [],
   "source": [
    "# Creao columnas vacías\n",
    "merged_df[\"Motivo del descuento\"] = \"\"\n",
    "merged_df[\"Comentarios\"] = \"\""
   ]
  },
  {
   "cell_type": "code",
   "execution_count": 9,
   "id": "267e782b-79a9-44a6-b38e-6d0924b28cca",
   "metadata": {
    "tags": []
   },
   "outputs": [],
   "source": [
    "# Creo Diferencia entre Importe de factura (Remittence) y importe_FBL5\n",
    "merged_df[\"Diferencia\"] = merged_df[\"Importe de factura\"] - merged_df[\"importe_FBL5N\"]"
   ]
  },
  {
   "cell_type": "code",
   "execution_count": 10,
   "id": "b9d20e68-1ac7-477d-b06d-51979cfb596f",
   "metadata": {
    "tags": []
   },
   "outputs": [],
   "source": [
    "# Inicializamos la columna como NaN\n",
    "merged_df[\"Diferencia\"] = pd.NA\n",
    "\n",
    "# Calculamos la diferencia solo para facturas\n",
    "merged_df.loc[merged_df[\"Tipo de Documento\"] == \"Factura\", \"Diferencia\"] = (\n",
    "    merged_df[\"Importe de factura\"] - merged_df[\"importe_FBL5N\"]\n",
    ")\n"
   ]
  },
  {
   "cell_type": "code",
   "execution_count": 11,
   "id": "8ab015a9-35e3-4bda-be9e-67ef45eb85f1",
   "metadata": {
    "tags": []
   },
   "outputs": [],
   "source": [
    "# Filtramos las filas donde la diferencia no es NA (incluye 0)\n",
    "diferencias = merged_df[merged_df[\"Diferencia\"].notna()].copy()\n",
    "\n",
    "# Creamos las nuevas filas según tus reglas\n",
    "nuevas_filas = pd.DataFrame({\n",
    "    \"Tipo de Documento\": \"Descuentos no asociados a FC\",\n",
    "    \"Referencia / Factura\": diferencias[\"Referencia / Factura\"],\n",
    "    \"Importe de factura\": diferencias[\"Diferencia\"],\n",
    "    \"Pago Neto\": \"\",  # opcional\n",
    "    \"Descuento\": diferencias[\"Diferencia\"].apply(\n",
    "        lambda x: \"MENORES VALORES\" if -2000 < x < 2000 else \"A definir\"\n",
    "    ),\n",
    "    \"Motivo del descuento\": diferencias[\"Diferencia\"].apply(\n",
    "        lambda x: \"WOB\" if x < 0 else \"384\"\n",
    "    ),\n",
    "    \"Comentarios\": \"\"\n",
    "})\n",
    "\n",
    "# Concatenamos las nuevas filas al DataFrame original\n",
    "merged_df = pd.concat([merged_df, nuevas_filas], ignore_index=True)\n"
   ]
  },
  {
   "cell_type": "code",
   "execution_count": 12,
   "id": "773b82dd-bd13-4218-b04f-c188af847f7a",
   "metadata": {
    "tags": []
   },
   "outputs": [],
   "source": [
    "merged_df[\"Pago Neto\"] = merged_df[\"Importe de factura\"]\n",
    "merged_df[\"Referencia / Factura\"] = merged_df[\"Referencia / Factura\"].astype(str)"
   ]
  },
  {
   "cell_type": "code",
   "execution_count": 13,
   "id": "736883c3-a821-46a6-bec4-d0d8e8a1a5d6",
   "metadata": {},
   "outputs": [],
   "source": [
    "conds = [\n",
    "    merged_df[\"Referencia / Factura\"].str.startswith(\"0085489\"),\n",
    "    merged_df[\"Referencia / Factura\"].str.startswith(\"463\"),\n",
    "    merged_df[\"Referencia / Factura\"].str.startswith(\"9801649\")\n",
    "]\n",
    "descuentos = [\"DESCUENTO\", \"AVERIA\", \"FACT PROVEEDOR\"]\n",
    "motivos = [\"987\", \"522\", \"CSB\"]\n",
    "\n",
    "# Asignamos Descuento y Motivo al mismo tiempo\n",
    "merged_df[\"Descuento\"] = np.select(conds, descuentos, default=merged_df[\"Descuento\"])\n",
    "merged_df[\"Motivo del descuento\"] = np.select(conds, motivos, default=merged_df[\"Motivo del descuento\"])\n"
   ]
  },
  {
   "cell_type": "code",
   "execution_count": 14,
   "id": "a71c4bfd-df7b-4e44-93f4-252e07b53fcc",
   "metadata": {
    "tags": []
   },
   "outputs": [],
   "source": [
    "# Agrego dato de Comentario\n",
    "merged_df[\"Comentarios\"] = np.where(\n",
    "    merged_df[\"Tipo de Documento\"] != \"Factura\",\n",
    "    merged_df[\"Descuento\"].fillna(\"\") + \" \" + merged_df[\"Referencia / Factura\"].fillna(\"\"),\n",
    "    \"\"\n",
    ")"
   ]
  },
  {
   "cell_type": "code",
   "execution_count": 15,
   "id": "58e4f37f-b698-49e3-834c-1848b8e5ec0f",
   "metadata": {
    "tags": []
   },
   "outputs": [],
   "source": [
    "# Limpio las columnas con las que me voy a quedar en Template\n",
    "\n",
    "columnas_finales = [\n",
    "    \"Tipo de Documento\",\n",
    "    \"Referencia / Factura\",\n",
    "    \"Importe de factura\",\n",
    "    \"Descuento\",\n",
    "    \"Motivo del descuento\",\n",
    "    \"Pago Neto\",\n",
    "    \"Comentarios\"\n",
    "]\n",
    "\n",
    "merged_df = merged_df[columnas_finales]"
   ]
  },
  {
   "cell_type": "code",
   "execution_count": 16,
   "id": "ee0c56ff-53cb-4d04-ba06-c005baec7540",
   "metadata": {
    "tags": []
   },
   "outputs": [],
   "source": [
    "# Limpieza de registros que no van (lo tengo que hacer antes)\n",
    "\n",
    "# Eliminar filas donde Importe de factura sea NaN\n",
    "merged_df = merged_df[merged_df[\"Importe de factura\"].notna()]\n",
    "# Si además querés eliminar filas donde sea 0\n",
    "merged_df = merged_df[merged_df[\"Importe de factura\"] != 0]"
   ]
  },
  {
   "cell_type": "code",
   "execution_count": 17,
   "id": "1d036151-4640-4bb9-8f12-8cc28c9c04ac",
   "metadata": {
    "tags": []
   },
   "outputs": [],
   "source": [
    "# Esto esta rarisimo (No Correr)\n",
    "merged_df = merged_df[~((merged_df[\"Tipo de Documento\"] != \"Factura\") & \n",
    "                        (merged_df[\"Descuento\"].isna() | (merged_df[\"Descuento\"] == \"\")))]"
   ]
  },
  {
   "cell_type": "code",
   "execution_count": null,
   "id": "41aa0496-f796-41e2-bcbe-96381d3dfc3b",
   "metadata": {},
   "outputs": [],
   "source": [
    "# Exportacion de archivo"
   ]
  },
  {
   "cell_type": "code",
   "execution_count": 18,
   "id": "5137a65e-465c-4e7f-a286-e1ffda6bcd07",
   "metadata": {
    "tags": []
   },
   "outputs": [],
   "source": [
    "ruta_salida = \"merged_template.xlsx\"\n",
    "\n",
    "# Exportamos con pandas, indicando hoja y posición inicial\n",
    "merged_df.to_excel(\n",
    "    ruta_salida,\n",
    "    index=False,\n",
    "    sheet_name=\"Template\",\n",
    "    startrow=17,\n",
    "    startcol=2\n",
    ")"
   ]
  },
  {
   "cell_type": "code",
   "execution_count": 19,
   "id": "7cb9f567-eb42-4584-bed7-cb4e2f9b9dfc",
   "metadata": {
    "tags": []
   },
   "outputs": [],
   "source": [
    "# Abrimos el archivo para aplicar formatos\n",
    "wb = load_workbook(ruta_salida)\n",
    "ws = wb[\"Template\"]"
   ]
  },
  {
   "cell_type": "code",
   "execution_count": 20,
   "id": "7fb591fa-baa0-4900-9fe9-2384a6dae14f",
   "metadata": {
    "tags": []
   },
   "outputs": [],
   "source": [
    "# Columnas numéricas a formatear\n",
    "num_cols = [\"Importe de factura\", \"Pago Neto\"]\n",
    "\n",
    "for col in num_cols:\n",
    "    col_idx = merged_df.columns.get_loc(col) + 3  # startcol=2 → columna C = 3 en openpyxl\n",
    "    for row in range(18, 18 + len(merged_df)):\n",
    "        ws.cell(row=row, column=col_idx).number_format = '0.00'"
   ]
  },
  {
   "cell_type": "code",
   "execution_count": 21,
   "id": "00661833-b2fe-4d30-ab3b-22a8d8e0fadf",
   "metadata": {
    "tags": []
   },
   "outputs": [],
   "source": [
    "\n",
    "# Columnas de texto a formatear\n",
    "## Columnas de texto formateadas y centradas (excepto 'Comentarios'\n",
    "str_cols = [\"Tipo de Documento\", \"Referencia / Factura\", \"Descuento\", \"Motivo del descuento\", \"Comentarios\"]\n",
    "\n",
    "for col in str_cols:\n",
    "    col_idx = merged_df.columns.get_loc(col) + 3\n",
    "    for row in range(18, 18 + len(merged_df)):\n",
    "        cell = ws.cell(row=row, column=col_idx)\n",
    "        cell.number_format = '@'  # formato texto\n",
    "        if col != \"Comentarios\":\n",
    "            cell.alignment = Alignment(horizontal=\"center\", vertical=\"center\")"
   ]
  },
  {
   "cell_type": "code",
   "execution_count": 22,
   "id": "ee6e9b71-4780-48c7-92c7-84ccf4cab0ba",
   "metadata": {
    "tags": []
   },
   "outputs": [
    {
     "name": "stdout",
     "output_type": "stream",
     "text": [
      "Archivo exportado correctamente con formato: merged_template.xlsx\n"
     ]
    }
   ],
   "source": [
    "# Guardar cambios en el archivo Excel\n",
    "wb.save(ruta_salida)\n",
    "print(f\"Archivo exportado correctamente con formato: {ruta_salida}\")"
   ]
  },
  {
   "cell_type": "code",
   "execution_count": 196,
   "id": "9df23204-d206-4508-a5f6-d5aa858e4f5b",
   "metadata": {
    "tags": []
   },
   "outputs": [
    {
     "name": "stdout",
     "output_type": "stream",
     "text": [
      "Archivo exportado correctamente con formato: merged_template.xlsx\n"
     ]
    }
   ],
   "source": [
    "## Borrador \n",
    "#\n",
    "#from openpyxl import load_workbook\n",
    "#\n",
    "#ruta_salida = \"merged_template.xlsx\"\n",
    "#\n",
    "## Exportamos con pandas, indicando la hoja y la fila/columna inicial\n",
    "#merged_df.to_excel(ruta_salida, index=False, sheet_name=\"Template\", startrow=17, startcol=2)\n",
    "#\n",
    "## Abrimos con openpyxl para dar formato\n",
    "#wb = load_workbook(ruta_salida)\n",
    "#ws = wb[\"Template\"]\n",
    "#\n",
    "## Columnas numéricas a formatear\n",
    "#num_cols = [\"Importe de factura\", \"Pago Neto\"]\n",
    "#for col in num_cols:\n",
    "    #col_idx = merged_df.columns.get_loc(col) + 3  # startcol=2 → columna C = 3 en openpyxl\n",
    "    #for row in range(18, 18 + len(merged_df)):\n",
    "        #ws.cell(row=row, column=col_idx).number_format = '0.00'\n",
    "#\n",
    "## Columnas de texto a formatear\n",
    "#str_cols = [\"Tipo de Documento\", \"Referencia / Factura\", \"Descuento\", \"Motivo del descuento\", \"Comentarios\"]\n",
    "#for col in str_cols:\n",
    "    #col_idx = merged_df.columns.get_loc(col) + 3\n",
    "    #for row in range(18, 18 + len(merged_df)):\n",
    "        #ws.cell(row=row, column=col_idx).number_format = '@'\n",
    "#\n",
    "## Guardamos\n",
    "#wb.save(ruta_salida)\n",
    "#\n",
    "#print(f\"Archivo exportado correctamente con formato: {ruta_salida}\")\n"
   ]
  }
 ],
 "metadata": {
  "kernelspec": {
   "display_name": "Python 3 (ipykernel)",
   "language": "python",
   "name": "python3"
  },
  "language_info": {
   "codemirror_mode": {
    "name": "ipython",
    "version": 3
   },
   "file_extension": ".py",
   "mimetype": "text/x-python",
   "name": "python",
   "nbconvert_exporter": "python",
   "pygments_lexer": "ipython3",
   "version": "3.8.16"
  }
 },
 "nbformat": 4,
 "nbformat_minor": 5
}
