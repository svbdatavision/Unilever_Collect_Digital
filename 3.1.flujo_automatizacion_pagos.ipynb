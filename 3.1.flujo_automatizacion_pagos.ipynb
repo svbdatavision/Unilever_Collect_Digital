{
 "cells": [
  {
   "cell_type": "markdown",
   "id": "7385f122-0913-4e78-a4d5-cf8a0c1e77ec",
   "metadata": {
    "tags": []
   },
   "source": [
    "# Unilever"
   ]
  },
  {
   "cell_type": "markdown",
   "id": "7d7c0ef3-6049-4baa-9ed9-42849e177bdb",
   "metadata": {},
   "source": [
    "### Automatización aplicación pagos"
   ]
  },
  {
   "cell_type": "code",
   "execution_count": 1,
   "id": "d4ce5b79-af9e-4c98-8346-ed200e345d84",
   "metadata": {},
   "outputs": [],
   "source": [
    "# 1. Imports y configuración\n",
    "\n",
    "import pandas as pd\n",
    "import numpy as np"
   ]
  },
  {
   "cell_type": "code",
   "execution_count": 2,
   "id": "66348e91-25ca-4239-b6ed-f23d2cb23fe4",
   "metadata": {
    "tags": []
   },
   "outputs": [],
   "source": [
    "import pandas as pd\n",
    "\n",
    "def cargar_tabla_excel(path):\n",
    "    \"\"\"\n",
    "    Carga la única tabla que hay en la primera hoja del Excel,\n",
    "    detectando automáticamente dónde empieza.\n",
    "    Funciona aunque los encabezados sean distintos para cada cliente.\n",
    "    \"\"\"\n",
    "    # Leemos toda la primera hoja sin encabezados\n",
    "    df = pd.read_excel(path, header=None)\n",
    "    \n",
    "    # Detectamos la primera fila que parece tabla:\n",
    "    # condición: la fila no tiene celdas vacías y tiene varias columnas con datos\n",
    "    for i, fila in df.iterrows():\n",
    "        num_celdas_no_vacias = fila.count()\n",
    "        if num_celdas_no_vacias >= 5:  # ajusta este número según mínimo de columnas que esperas\n",
    "            df.columns = fila  # asignamos esa fila como encabezado\n",
    "            df = df.iloc[i+1:].reset_index(drop=True)  # descartamos filas anteriores y reseteamos índice\n",
    "            break\n",
    "\n",
    "    return df"
   ]
  },
  {
   "cell_type": "code",
   "execution_count": 54,
   "id": "2816d389-f6ee-4ffc-9048-63e145f9f34c",
   "metadata": {
    "tags": []
   },
   "outputs": [],
   "source": [
    "import pandas as pd\n",
    "\n",
    "def cargar_remittance(path, sheet_name):\n",
    "    \"\"\"\n",
    "    Carga la tabla de remittance detectando automáticamente\n",
    "    la fila donde empiezan los encabezados.\n",
    "    \"\"\"\n",
    "    # Leemos todo sin asignar headers\n",
    "    df = pd.read_excel(path, sheet_name=sheet_name, header=None)\n",
    "    \n",
    "    # Lista de columnas esperadas\n",
    "    columnas_esperadas = [\n",
    "        \"COD DOC\", \"DOC\", \"No. Interno\", \"No. Doc\", \"Fecha Doc\", \n",
    "        \"Cod Ean Sitio Entrega\", \"Lugar Entrega\", \"Ref. Pedido\", \n",
    "        \"Ref. Factura\", \"Ref. Avis Recibo\", \"Ref. Avis Devol\", \n",
    "        \"Ref. Dossier\", \"Ref. Numero de Folio\", \"Total a Pagar\", \n",
    "        \"Vlr Ant. Ajuste\", \"Ajustes\", \"Iva\", \"Impuestos\", \n",
    "        \"Descuentos\", \"Vlr Hort\", \"Valor Doc\", \"Rete fte\", \n",
    "        \"Rete Iva\", \"Rete Ica\", \"Rte. CREE\", \"Cod Ajustes\", \n",
    "        \"Descripcion Ajustes\", \"Valor Ajustado\", \"Observaciones\", \n",
    "        \"No Lin\", \"Código de identificación del Item\", \n",
    "        \"Tipo de Identificación\", \"Descripción del Item\", \n",
    "        \"Precio Neto Unitario del Item\", \"Razón del Ajuste1\", \n",
    "        \"Cantidad del Item para el Ajuste1\", \"Razón del Ajuste2\", \n",
    "        \"Cantidad del Item para el Ajuste2\", \"Razón del Ajuste3\", \n",
    "        \"Cantidad del Item para el Ajuste3\"\n",
    "    ]\n",
    "    \n",
    "    # Buscar la fila que coincide con los encabezados\n",
    "    for i, fila in df.iterrows():\n",
    "        if all(col in fila.values for col in columnas_esperadas[:5]):  # se puede usar solo primeras columnas\n",
    "            df.columns = fila  # asignamos encabezados\n",
    "            df = df.iloc[i+1:]  # descartamos filas anteriores\n",
    "            break\n",
    "    \n",
    "    # Seleccionamos solo las columnas que nos interesan\n",
    "    columnas_relevantes = [\"DOC\", \"No. Doc\", \"Total a Pagar\"]\n",
    "    df = df[columnas_relevantes].copy()\n",
    "    \n",
    "    return df\n"
   ]
  },
  {
   "cell_type": "code",
   "execution_count": 3,
   "id": "16426a1a-86b0-4140-9d7a-db1df48d529f",
   "metadata": {
    "tags": []
   },
   "outputs": [],
   "source": [
    "# ------------------------------------------\n",
    "# Función para cargar los datos del Excel\n",
    "# ------------------------------------------\n",
    "def cargar_remittance(path, sheet_name):\n",
    "    \"\"\"\n",
    "    Carga la hoja de remittance desde el archivo Excel\n",
    "    y selecciona solo las columnas relevantes.\n",
    "    \"\"\"\n",
    "    df = pd.read_excel(\n",
    "        path,\n",
    "        sheet_name=sheet_name,\n",
    "        skiprows=25,           # fila 26 será la cabecera\n",
    "        nrows=48,              # filas de la 26 a la 73\n",
    "        usecols=[\"DOC\", \"No. Doc\", \"Total a Pagar\"]  # columnas necesarias\n",
    "    )\n",
    "    return df"
   ]
  },
  {
   "cell_type": "code",
   "execution_count": 4,
   "id": "9a8c7659-1a76-4215-9de0-01c046673722",
   "metadata": {
    "tags": []
   },
   "outputs": [],
   "source": [
    "# ------------------------------------------\n",
    "# Función para limpiar y transformar los datos\n",
    "# ------------------------------------------\n",
    "def limpiar_remittance(df):\n",
    "    \"\"\"\n",
    "    - Renombra columnas para mayor claridad\n",
    "    - Filtra solo los documentos de tipo 'Factura Comercial'\n",
    "    - Ajusta la columna 'Referencia / Factura' eliminando primer carácter y últimos 3\n",
    "    - Reemplaza el nombre de documento por 'Factura'\n",
    "    \"\"\"\n",
    "    df = (\n",
    "        df.rename(columns={\n",
    "            \"DOC\": \"Tipo de Documento\",\n",
    "            \"No. Doc\": \"Referencia / Factura\"\n",
    "        })\n",
    "        # Filtra solo Facturas Comerciales\n",
    "        .loc[lambda x: x[\"Tipo de Documento\"] == \"Factura Comercial\"]\n",
    "        # Ajusta la columna 'Referencia / Factura'\n",
    "        .assign(\n",
    "            **{\n",
    "                \"Referencia / Factura\": lambda x: x[\"Referencia / Factura\"].str[1:-3],\n",
    "                \"Tipo de Documento\": lambda x: x[\"Tipo de Documento\"].replace(\"Factura Comercial\", \"Factura\")\n",
    "            }\n",
    "        )\n",
    "    )\n",
    "    return df"
   ]
  },
  {
   "cell_type": "code",
   "execution_count": 5,
   "id": "6c82de86-3bbf-4acd-acaa-8b364ad61853",
   "metadata": {
    "tags": []
   },
   "outputs": [],
   "source": [
    "# ------------------------------------------\n",
    "# Función principal\n",
    "# ------------------------------------------\n",
    "def main():\n",
    "    # Cargar datos\n",
    "    path = \"Remittance.xlsx\"\n",
    "    sheet_name = \"REMADV202508120820_1182089\"\n",
    "    remittance = cargar_remittance(path, sheet_name)\n",
    "    \n",
    "    # Limpiar y transformar\n",
    "    remittance = limpiar_remittance(remittance)\n",
    "    \n",
    "    # Mostrar resultados\n",
    "    print(remittance.head())"
   ]
  },
  {
   "cell_type": "code",
   "execution_count": 6,
   "id": "91a12246-b912-4c63-ae1d-5d3a63380e60",
   "metadata": {
    "tags": []
   },
   "outputs": [
    {
     "name": "stdout",
     "output_type": "stream",
     "text": [
      "  Tipo de Documento Referencia / Factura  Total a Pagar\n",
      "0           Factura           PMP1243434      165989699\n",
      "1           Factura           PMP1243435       29856410\n",
      "2           Factura           PMP1243436       12528130\n",
      "3           Factura           PMP1243437          83124\n",
      "4           Factura           PMP1243438       53514044\n"
     ]
    }
   ],
   "source": [
    "# ------------------------------------------\n",
    "# Punto de entrada del script\n",
    "# ------------------------------------------\n",
    "if __name__ == \"__main__\":\n",
    "    main()"
   ]
  },
  {
   "cell_type": "code",
   "execution_count": null,
   "id": "2bfb66b6-814f-4d0e-9d29-5a75bb68a593",
   "metadata": {},
   "outputs": [],
   "source": []
  },
  {
   "cell_type": "code",
   "execution_count": null,
   "id": "c01bb7a2-04ba-44c0-b0a8-521f803d118f",
   "metadata": {},
   "outputs": [],
   "source": []
  }
 ],
 "metadata": {
  "kernelspec": {
   "display_name": "Python 3 (ipykernel)",
   "language": "python",
   "name": "python3"
  },
  "language_info": {
   "codemirror_mode": {
    "name": "ipython",
    "version": 3
   },
   "file_extension": ".py",
   "mimetype": "text/x-python",
   "name": "python",
   "nbconvert_exporter": "python",
   "pygments_lexer": "ipython3",
   "version": "3.8.16"
  }
 },
 "nbformat": 4,
 "nbformat_minor": 5
}
