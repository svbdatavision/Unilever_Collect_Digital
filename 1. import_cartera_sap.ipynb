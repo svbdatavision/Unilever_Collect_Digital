{
 "cells": [
  {
   "cell_type": "code",
   "execution_count": 3,
   "id": "0a82807a-06bd-4e46-8072-665c658be293",
   "metadata": {
    "tags": []
   },
   "outputs": [
    {
     "name": "stdout",
     "output_type": "stream",
     "text": [
      "\u001b[31mERROR: Could not find a version that satisfies the requirement pywin32 (from versions: none)\u001b[0m\u001b[31m\n",
      "\u001b[0m\u001b[31mERROR: No matching distribution found for pywin32\u001b[0m\u001b[31m\n",
      "\u001b[0mNote: you may need to restart the kernel to use updated packages.\n"
     ]
    }
   ],
   "source": [
    "pip install pywin32"
   ]
  },
  {
   "cell_type": "code",
   "execution_count": 1,
   "id": "6888529e-e6ed-46d3-ba27-72001371dda6",
   "metadata": {
    "tags": []
   },
   "outputs": [
    {
     "ename": "ModuleNotFoundError",
     "evalue": "No module named 'win32com'",
     "output_type": "error",
     "traceback": [
      "\u001b[0;31m---------------------------------------------------------------------------\u001b[0m",
      "\u001b[0;31mModuleNotFoundError\u001b[0m                       Traceback (most recent call last)",
      "Cell \u001b[0;32mIn[1], line 1\u001b[0m\n\u001b[0;32m----> 1\u001b[0m \u001b[38;5;28;01mimport\u001b[39;00m \u001b[38;5;21;01mwin32com\u001b[39;00m\u001b[38;5;21;01m.\u001b[39;00m\u001b[38;5;21;01mclient\u001b[39;00m\n\u001b[1;32m      2\u001b[0m \u001b[38;5;28;01mimport\u001b[39;00m \u001b[38;5;21;01mos\u001b[39;00m\n\u001b[1;32m      3\u001b[0m \u001b[38;5;28;01mimport\u001b[39;00m \u001b[38;5;21;01mtime\u001b[39;00m\n",
      "\u001b[0;31mModuleNotFoundError\u001b[0m: No module named 'win32com'"
     ]
    }
   ],
   "source": [
    "import win32com.client\n",
    "import os\n",
    "import time"
   ]
  },
  {
   "cell_type": "code",
   "execution_count": 2,
   "id": "e2bf8bf1-165b-420c-ad8f-5876742f5d9c",
   "metadata": {
    "tags": []
   },
   "outputs": [
    {
     "name": "stdout",
     "output_type": "stream",
     "text": [
      "\u001b[31mERROR: Could not find a version that satisfies the requirement win32com (from versions: none)\u001b[0m\u001b[31m\n",
      "\u001b[0m\u001b[31mERROR: No matching distribution found for win32com\u001b[0m\u001b[31m\n",
      "\u001b[0mNote: you may need to restart the kernel to use updated packages.\n"
     ]
    }
   ],
   "source": [
    "pip install win32com"
   ]
  },
  {
   "cell_type": "code",
   "execution_count": null,
   "id": "08d591ee-9158-4e0b-a66b-2dca2a00ef38",
   "metadata": {},
   "outputs": [],
   "source": [
    "def find_process(name):\n",
    "    cObj = win32com.client.GetObject(\"winmgmts://.\")\n",
    "    processes = cObj.ExecQuery(f\"SELECT * FROM Win32_Process WHERE Name = '{name}'\")\n",
    "    return len(processes) > 0\n",
    "\n",
    "def esperar(segundos):\n",
    "    time.sleep(segundos)\n",
    "\n",
    "\n",
    "def get_p1p_session():\n",
    "     try:\n",
    "         sap_gui = win32com.client.GetObject(\"SAPGUI\")\n",
    "         appl = sap_gui.GetScriptingEngine\n",
    "         for i in range(appl.Children.Count):\n",
    "             connection = appl.Children(i)\n",
    "             if \"P1P\" in connection.Description:\n",
    "                 print(\"Conexión P1P ya activa.\")\n",
    "                 return connection.Children(0)\n",
    "     except Exception as e:\n",
    "         print(f\"No se pudo obtener SAPGUI: {e}\")\n",
    "     return None\n",
    "\n",
    "\n",
    "def descargar_datos():\n",
    "    # Calcular fechas relevantes\n",
    "    fecha_ini = f\"01.{time.strftime('%m')}.{time.strftime('%Y')}\"\n",
    "    fecha_fin = f\"{time.strftime('%d')}.{time.strftime('%m')}.{time.strftime('%Y')}\"\n",
    "    mes_sor = 13 if time.strftime('%m') == '01' else int(time.strftime('%m'))\n",
    "    year_sor = int(time.strftime('%Y')) - 1 if time.strftime('%m') == '01' else int(time.strftime('%Y'))\n",
    "    fecha_ini2 = f\"01.{mes_sor - 1}.{year_sor}\"\n",
    "\n",
    "    user = os.getenv(\"USERNAME\")\n",
    "\n",
    "# Verificar si SAP Logon está abierto\n",
    "    if not find_process(\"saplogon.exe\"):\n",
    "        print(\"SAP Logon no está abierto. Iniciando...\")\n",
    "        os.system(\"start /min saplogon.exe\")\n",
    "        esperar(5)\n",
    "    else:\n",
    "        print(\"SAP Logon ya está abierto.\")\n",
    "\n",
    "# Verificar si ya hay una sesión P1P activa\n",
    "    session = get_p1p_session()\n",
    "\n",
    "# Si no hay sesión P1P, abrirla\n",
    "    if session is None:\n",
    "        print(\"Abriendo nueva conexión a P1P...\")\n",
    "        sap_gui = win32com.client.GetObject(\"SAPGUI\")\n",
    "        appl = sap_gui.GetScriptingEngine\n",
    "        connection = appl.OpenConnection(\"P1P - Cordillera - ECC Production\", True)\n",
    "        session = connection.Children(0)\n",
    "\n",
    "    # Confirmación\n",
    "    print(\"Sesión SAP lista para usar.\")\n",
    "\n",
    "    # Descarga de transacciones\n",
    "    session.findById(\"wnd[0]\").maximize()\n",
    "    session.findById(\"wnd[0]/tbar[0]/btn[3]\").press()\n",
    "    session.findById(\"wnd[0]/tbar[0]/okcd\").Text = \"FBL5N\"\n",
    "    session.findById(\"wnd[0]\").sendVKey(0)\n",
    "    session.findById(\"wnd[0]/usr/chkX_SHBV\").Selected = True\n",
    "    session.findById(\"wnd[0]/usr/ctxtDD_KUNNR-LOW\").Text = \"\"\n",
    "    session.findById(\"wnd[0]/usr/ctxtDD_BUKRS-LOW\").Text = \"9370\"\n",
    "    session.findById(\"wnd[0]/usr/ctxtPA_STIDA\").Text = fecha_fin\n",
    "    session.findById(\"wnd[0]/usr/ctxtPA_VARI\").Text = \"/LADR\"\n",
    "    session.findById(\"wnd[0]/usr/chkX_SHBV\").SetFocus()\n",
    "    session.findById(\"wnd[0]/tbar[1]/btn[16]\").press()\n",
    "    session.findById(\"wnd[0]/usr/ssub%_SUBSCREEN_%_SUB%_CONTAINER:SAPLSSEL:2001/ssubSUBSCREEN_CONTAINER2:SAPLSSEL:2000/cntlSUB_CONTAINER/shellcont/shellcont/shell/shellcont[1]/shell\").selectNode(\"         70\")\n",
    "    session.findById(\"wnd[0]/usr/ssub%_SUBSCREEN_%_SUB%_CONTAINER:SAPLSSEL:2001/ssubSUBSCREEN_CONTAINER2:SAPLSSEL:2000/cntlSUB_CONTAINER/shellcont/shellcont/shell/shellcont[1]/shell\").topNode = \"         68\"\n",
    "    session.findById(\"wnd[0]/usr/ssub%_SUBSCREEN_%_SUB%_CONTAINER:SAPLSSEL:2001/ssubSUBSCREEN_CONTAINER2:SAPLSSEL:2000/cntlSUB_CONTAINER/shellcont/shellcont/shell/shellcont[1]/shell\").doubleClickNode(\"         70\")\n",
    "    session.findById(\"wnd[0]/usr/ssub%_SUBSCREEN_%_SUB%_CONTAINER:SAPLSSEL:2001/ssubSUBSCREEN_CONTAINER2:SAPLSSEL:2000/cntlSUB_CONTAINER/shellcont/shellcont/shell/shellcont[1]/shell\").topNode = \"         42\"\n",
    "    session.findById(\"wnd[0]/usr/ssub%_SUBSCREEN_%_SUB%_CONTAINER:SAPLSSEL:2001/ssubSUBSCREEN_CONTAINER2:SAPLSSEL:2000/ssubSUBSCREEN_CONTAINER:SAPLSSEL:1106/btn%_%%DYN018_%_APP_%-VALU_PUSH\").press()\n",
    "    session.findById(\"wnd[1]/usr/tabsTAB_STRIP/tabpSIVA/ssubSCREEN_HEADER:SAPLALDB:3010/tblSAPLALDBSINGLE/ctxtRSCSEL_255-SLOW_I[1,2]\").caretPosition = 8\n",
    "    session.findById(\"wnd[1]/tbar[0]/btn[8]\").press()\n",
    "    session.findById(\"wnd[0]/tbar[1]/btn[16]\").press()\n",
    "    session.findById(\"wnd[0]/tbar[1]/btn[8]\").press()\n",
    "    session.findById(\"wnd[0]/mbar/menu[5]/menu[6]/menu[0]\").Select()\n",
    "    session.findById(\"wnd[0]/mbar/menu[0]/menu[3]/menu[1]\").Select()\n",
    "    session.findById(\"wnd[1]\").sendVKey(0)\n",
    "    session.findById(\"wnd[1]/usr/ctxtDY_PATH\").Text = f\"C:\\\\Users\\\\{user}\\\\Unilever\\\\bases BI overdue -PERU - Documents\\\\Bases Power BI\\\\ACUMULADOS\"\n",
    "    session.findById(\"wnd[1]/usr/ctxtDY_FILENAME\").Text = nombre_archivo\n",
    "    session.findById(\"wnd[1]/usr/ctxtDY_PATH\").SetFocus()\n",
    "    session.findById(\"wnd[1]/usr/ctxtDY_PATH\").caretPosition = 64\n",
    "    session.findById(\"wnd[1]/tbar[0]/btn[11]\").press()\n",
    "    session.findById(\"wnd[0]/tbar[0]/btn[3]\").press()\n",
    "    session.findById(\"wnd[0]/tbar[0]/btn[3]\").press()\n",
    "\n",
    "    session.findById(\"wnd[0]/tbar[0]/okcd\").text = \"/nfbl5n\"\n",
    "    session.findById(\"wnd[0]\").sendVKey()\n",
    "    session.findById(\"wnd[0]/usr/radX_AISEL\").select()\n",
    "    session.findById(\"wnd[0]/usr/ctxtSO_BUDAT-LOW\").text = fecha_ini\n",
    "    session.findById(\"wnd[0]/usr/ctxtSO_BUDAT-HIGH\").text = fecha_fin\n",
    "    session.findById(\"wnd[0]/usr/ctxtSO_BUDAT-HIGH\").setFocus()\n",
    "    session.findById(\"wnd[0]/usr/ctxtSO_BUDAT-HIGH\").caretPosition = 10\n",
    "    session.findById(\"wnd[0]\").sendVKey(8)\n",
    "    session.findById(\"wnd[0]/mbar/menu[0]/menu[3]/menu[1]\").select\n",
    "    session.findById(\"wnd[1]\").sendVKey(0)\n",
    "    session.findById(\"wnd[1]/usr/ctxtDY_PATH\").text = f\"C:\\\\Users\\\\{user}\\\\Unilever\\\\bases BI overdue -PERU - Documents\\\\Bases Power BI\\\\ACUMULADOS\"\n",
    "    session.findById(\"wnd[1]/usr/ctxtDY_FILENAME\").text = nombre_archivo\n",
    "    session.findById(\"wnd[1]/usr/ctxtDY_FILENAME\").caretPosition = 9\n",
    "    session.findById(\"wnd[1]/tbar[0]/btn[11]\").press()\n",
    "\n",
    "# Ejecutar la función principal\n",
    "descargar_datos()\n",
    "\n",
    "def cerrar_archivo_excel(nombre_archivo):\n",
    "    try:\n",
    "        excel = win32com.client.Dispatch(\"Excel.Application\")\n",
    "        libros_a_cerrar = []\n",
    "\n",
    "        # Buscar libros que coincidan\n",
    "        for workbook in list(excel.Workbooks):\n",
    "            if nombre_archivo.lower() in workbook.Name.lower():\n",
    "                libros_a_cerrar.append(workbook)\n",
    "\n",
    "        # Cerrar los libros encontrados\n",
    "        for libro in libros_a_cerrar:\n",
    "            nombre = libro.Name  # Guardar el nombre antes de cerrar\n",
    "            libro.Close(SaveChanges=False)\n",
    "            print(f\"El archivo de Excel '{nombre}' ha sido cerrado.\")\n",
    "\n",
    "        # Cerrar Excel si no quedan libros abiertos\n",
    "        if excel.Workbooks.Count == 0:\n",
    "            excel.Quit()\n",
    "\n",
    "    except Exception as e:\n",
    "        print(f\"Error al cerrar Excel: {e}\")\n",
    "\n",
    "cerrar_archivo_excel(\"CARTERA\")\n",
    "    \n",
    "    \n",
    "\n",
    "\n"
   ]
  },
  {
   "cell_type": "code",
   "execution_count": null,
   "id": "b4ba006e-162e-4538-a62d-44bfa889f962",
   "metadata": {},
   "outputs": [],
   "source": []
  },
  {
   "cell_type": "code",
   "execution_count": null,
   "id": "1b252335-11f0-42dc-be29-b856a8c9e1d7",
   "metadata": {},
   "outputs": [],
   "source": []
  }
 ],
 "metadata": {
  "kernelspec": {
   "display_name": "Python 3 (ipykernel)",
   "language": "python",
   "name": "python3"
  },
  "language_info": {
   "codemirror_mode": {
    "name": "ipython",
    "version": 3
   },
   "file_extension": ".py",
   "mimetype": "text/x-python",
   "name": "python",
   "nbconvert_exporter": "python",
   "pygments_lexer": "ipython3",
   "version": "3.8.16"
  }
 },
 "nbformat": 4,
 "nbformat_minor": 5
}
